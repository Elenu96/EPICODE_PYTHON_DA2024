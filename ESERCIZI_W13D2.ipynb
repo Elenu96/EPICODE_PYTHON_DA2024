{
 "cells": [
  {
   "cell_type": "code",
   "execution_count": null,
   "id": "9fe9232b-5774-4a45-b6ec-15533263e5c0",
   "metadata": {},
   "outputs": [],
   "source": [
    "# Abbiamo la stringa: nome_scuola = \"Epicode\" \n",
    "# Stampare ogni carattere della stringa, uno su ogni riga, utilizzando un costrutto while."
   ]
  },
  {
   "cell_type": "code",
   "execution_count": 1,
   "id": "2e9d1088-1ca7-4a1a-b08f-a1a95291f708",
   "metadata": {},
   "outputs": [
    {
     "name": "stdout",
     "output_type": "stream",
     "text": [
      "Epicode\n"
     ]
    }
   ],
   "source": [
    "nome_scuola = \"Epicode\"\n",
    "print(nome_scuola)"
   ]
  },
  {
   "cell_type": "code",
   "execution_count": 3,
   "id": "1f5be2b5-d731-423a-b74b-6112fc4190aa",
   "metadata": {},
   "outputs": [
    {
     "data": {
      "text/plain": [
       "7"
      ]
     },
     "execution_count": 3,
     "metadata": {},
     "output_type": "execute_result"
    }
   ],
   "source": [
    "len(nome_scuola)"
   ]
  },
  {
   "cell_type": "code",
   "execution_count": 30,
   "id": "85343040-6cc2-4944-bcae-512a19e2d972",
   "metadata": {},
   "outputs": [
    {
     "name": "stdout",
     "output_type": "stream",
     "text": [
      "E\n",
      "p\n",
      "i\n",
      "c\n",
      "o\n",
      "d\n",
      "e\n"
     ]
    }
   ],
   "source": [
    "i = 0\n",
    "while i < len(nome_scuola):\n",
    "    print(nome_scuola[i])\n",
    "    i = i + 1"
   ]
  },
  {
   "cell_type": "code",
   "execution_count": 32,
   "id": "ed749f90-349c-4f13-83d7-09481d2bb3b6",
   "metadata": {},
   "outputs": [],
   "source": [
    "# Stampare a video tutti i numeri da 0 a 20 utilizzando il costrutto while"
   ]
  },
  {
   "cell_type": "code",
   "execution_count": 34,
   "id": "1c52dd16-3af3-4121-84e9-df6d3686394c",
   "metadata": {},
   "outputs": [
    {
     "name": "stdout",
     "output_type": "stream",
     "text": [
      "0\n",
      "1\n",
      "2\n",
      "3\n",
      "4\n",
      "5\n",
      "6\n",
      "7\n",
      "8\n",
      "9\n",
      "10\n",
      "11\n",
      "12\n",
      "13\n",
      "14\n",
      "15\n",
      "16\n",
      "17\n",
      "18\n",
      "19\n",
      "20\n"
     ]
    }
   ],
   "source": [
    "i = 0\n",
    "while i <= 20:\n",
    "    print(i)\n",
    "    i = i + 1"
   ]
  },
  {
   "cell_type": "code",
   "execution_count": 36,
   "id": "f98621d6-ee7b-478b-a0be-e3c7f45dc294",
   "metadata": {},
   "outputs": [],
   "source": [
    "# Calcolare e stampare tutte le prime 10 potenze di 2 (e.g., 2⁰, 2¹, 2², …) utilizzando un ciclo while."
   ]
  },
  {
   "cell_type": "code",
   "execution_count": 40,
   "id": "3bbf69e3-b7c0-430d-ad24-1157818d8ae6",
   "metadata": {},
   "outputs": [
    {
     "name": "stdout",
     "output_type": "stream",
     "text": [
      "1\n",
      "2\n",
      "4\n",
      "8\n",
      "16\n",
      "32\n",
      "64\n",
      "128\n",
      "256\n",
      "512\n"
     ]
    }
   ],
   "source": [
    "i = 0\n",
    "while i < 10:\n",
    "    print(2**i)\n",
    "    i = i + 1"
   ]
  },
  {
   "cell_type": "code",
   "execution_count": 42,
   "id": "5d7e04d6-77ce-452c-9030-995b0bfea41f",
   "metadata": {},
   "outputs": [],
   "source": [
    "# Calcolare e stampare tutte le prime N potenze di 2 utilizzando un ciclo while\n",
    "# domandando all'utente di inserire N."
   ]
  },
  {
   "cell_type": "code",
   "execution_count": 50,
   "id": "072d0297-56e5-431e-9e64-2ef7b6d34739",
   "metadata": {},
   "outputs": [
    {
     "name": "stdin",
     "output_type": "stream",
     "text": [
      "Inserisci un numero  5\n"
     ]
    },
    {
     "name": "stdout",
     "output_type": "stream",
     "text": [
      "32\n",
      "16\n",
      "8\n",
      "4\n",
      "2\n",
      "1\n"
     ]
    }
   ],
   "source": [
    "N = int (input (\"Inserisci un numero \"))\n",
    "while N >= 0:\n",
    "    print(2**N)\n",
    "    N = N - 1"
   ]
  },
  {
   "cell_type": "code",
   "execution_count": 52,
   "id": "42df4807-0e13-47ae-9375-c5f3434a52e5",
   "metadata": {},
   "outputs": [],
   "source": [
    "# Calcolare e stampare tutte le potenze di 2 minori di 25000"
   ]
  },
  {
   "cell_type": "code",
   "execution_count": 56,
   "id": "edcf4361-01eb-46c2-b159-66194ef6bbdb",
   "metadata": {},
   "outputs": [
    {
     "name": "stdout",
     "output_type": "stream",
     "text": [
      "1\n",
      "2\n",
      "4\n",
      "8\n",
      "16\n",
      "32\n",
      "64\n",
      "128\n",
      "256\n",
      "512\n",
      "1024\n",
      "2048\n",
      "4096\n",
      "8192\n",
      "16384\n"
     ]
    }
   ],
   "source": [
    "N = 0\n",
    "potenza = 2**N\n",
    "while potenza < 25000:\n",
    "    print (potenza)\n",
    "    N = N + 1\n",
    "    potenza = 2**N"
   ]
  },
  {
   "cell_type": "code",
   "execution_count": null,
   "id": "8776c3f9-e6bb-4d05-8f7e-79f216dbf722",
   "metadata": {},
   "outputs": [],
   "source": [
    "# Abbiamo due liste, una di studenti e una di corsi: \n",
    "# studenti = [\"Alex\", \"Bob\", \"Cindy\", \"Dan\", \"Emma\", \"Faith\", \"Grace\", \"Henry\"] \n",
    "# corsi = [\"Cybersecurity\", \"Data Analyst\", \"Backend\", \"Frontend\", \"Data Analyst\", \"Backend\"]"
   ]
  },
  {
   "cell_type": "code",
   "execution_count": 58,
   "id": "f8f1a1ae-df89-4c6d-9c4d-f534e8635ef0",
   "metadata": {},
   "outputs": [],
   "source": [
    "# Aggiungere i dati mancanti alla lista corsi, sapendo che\n",
    "# Emma segue Data Analyst \n",
    "# Faith segue Backend \n",
    "# Grace segue Frontend \n",
    "# Henry segue Cybersecurity\n",
    "\n",
    "# Aggiungeremo i dati mancanti uno alla volta con il metodo per appendere in coda alle liste, \n",
    "# poi verificheremo che sono della stessa lunghezza e se lo sono stamperemo la lista corsi. \n",
    "# Se alcuni dati sono già presenti non vanno aggiunti di nuovo."
   ]
  },
  {
   "cell_type": "code",
   "execution_count": 68,
   "id": "a74b2e05-2878-4fe8-ae1b-f29ada72fcd5",
   "metadata": {},
   "outputs": [
    {
     "name": "stdout",
     "output_type": "stream",
     "text": [
      "8\n",
      "8\n",
      "['Cybersecurity', 'Data Analyst', 'Backend', 'Frontend', 'Data Analyst', 'Backend', 'Frontend', 'Cybersecurity']\n"
     ]
    }
   ],
   "source": [
    "studenti = [\"Alex\", \"Bob\", \"Cindy\", \"Dan\", \"Emma\", \"Faith\", \"Grace\", \"Henry\"]\n",
    "corsi = [\"Cybersecurity\", \"Data Analyst\", \"Backend\", \"Frontend\", \"Data Analyst\", \"Backend\"]\n",
    "\n",
    "corsi.append(\"Frontend\")\n",
    "corsi.append(\"Cybersecurity\")\n",
    "\n",
    "num_studenti = len(studenti)\n",
    "print(num_studenti)\n",
    "tot_corsi = len(corsi)\n",
    "print(tot_corsi)\n",
    "\n",
    "if num_studenti == tot_corsi:\n",
    "    print(corsi)\n",
    "else:\n",
    "    print(\"Studenti e corsi sono in numero diverso\")\n"
   ]
  },
  {
   "cell_type": "code",
   "execution_count": 70,
   "id": "f9060516-caeb-4a75-89bc-45c5447d056f",
   "metadata": {},
   "outputs": [],
   "source": [
    "# Scriviamo un programma che chiede in input all'utente:\n",
    "# una stringa e visualizza i primi 3 caratteri, \n",
    "# seguiti da 3 punti di sospensione \n",
    "# e quindi gli ultimi 3 caratteri.\n",
    "\n",
    "# Stavolta facciamo attenzione a tutti i casi particolari, \n",
    "# ovvero implementare soluzioni ad hoc per stringhe di lunghezza inferiore a 6 caratteri."
   ]
  },
  {
   "cell_type": "code",
   "execution_count": 78,
   "id": "71b1d5bd-e7dd-4ac5-9762-c506a1392e51",
   "metadata": {},
   "outputs": [
    {
     "name": "stdin",
     "output_type": "stream",
     "text": [
      "Inserisci un testo  buongiorno\n"
     ]
    },
    {
     "name": "stdout",
     "output_type": "stream",
     "text": [
      "buo...rno\n"
     ]
    }
   ],
   "source": [
    "testo = input(\"Inserisci un testo \")\n",
    "print(testo[:3] + \"...\" + testo[-3:])"
   ]
  },
  {
   "cell_type": "code",
   "execution_count": 88,
   "id": "c3c37400-6f5f-42fd-a71f-de7ff19fd33a",
   "metadata": {},
   "outputs": [
    {
     "name": "stdin",
     "output_type": "stream",
     "text": [
      "Inserisci un testo  ciao\n"
     ]
    },
    {
     "name": "stdout",
     "output_type": "stream",
     "text": [
      "ci...ao\n"
     ]
    }
   ],
   "source": [
    "testo = input(\"Inserisci un testo \")\n",
    "\n",
    "if 4 <= len(testo) < 6:\n",
    "    print(testo[:2] + \"...\" + testo[-2:])\n",
    "elif 2 <= len(testo) < 4:\n",
    "    print(testo[:1] + \"...\" + testo[-1:])\n",
    "elif len(testo) == 1:\n",
    "    print(testo)\n",
    "else:\n",
    "    print(testo[:3] + \"...\" + testo[-3:])"
   ]
  },
  {
   "cell_type": "code",
   "execution_count": 90,
   "id": "a25a7a1d-e0bf-411a-bdc0-07e0a0c6d819",
   "metadata": {},
   "outputs": [],
   "source": [
    "# Memorizza e stampa tutti i fattori di un numero dato in input."
   ]
  },
  {
   "cell_type": "code",
   "execution_count": 92,
   "id": "3282e85c-9de4-4135-92fe-291a371816ef",
   "metadata": {},
   "outputs": [
    {
     "name": "stdin",
     "output_type": "stream",
     "text": [
      "Inserisci un numero intero  56\n"
     ]
    },
    {
     "name": "stdout",
     "output_type": "stream",
     "text": [
      "1\n",
      "2\n",
      "4\n",
      "7\n",
      "8\n",
      "14\n",
      "28\n",
      "56\n"
     ]
    }
   ],
   "source": [
    "N = int(input(\"Inserisci un numero intero \"))\n",
    "i = 1\n",
    "\n",
    "while i <= N:\n",
    "    if N % i == 0:\n",
    "        print(i)\n",
    "    i = i + 1"
   ]
  },
  {
   "cell_type": "code",
   "execution_count": 1,
   "id": "80fc8cc0-cc8d-4321-8fcd-98a2b2ee6bdb",
   "metadata": {},
   "outputs": [],
   "source": [
    "# Abbiamo la stringa: nome_scuola = \"Epicode\" \n",
    "# Stampare ogni carattere della stringa, uno su ogni riga, utilizzando un costrutto for."
   ]
  },
  {
   "cell_type": "code",
   "execution_count": 5,
   "id": "50f3d287-8ee1-4066-b069-34f7410047d8",
   "metadata": {},
   "outputs": [
    {
     "name": "stdout",
     "output_type": "stream",
     "text": [
      "E\n",
      "p\n",
      "i\n",
      "c\n",
      "o\n",
      "d\n",
      "e\n"
     ]
    }
   ],
   "source": [
    "nome_scuola = \"Epicode\"\n",
    "for lettera in nome_scuola:\n",
    "    print(lettera)"
   ]
  },
  {
   "cell_type": "code",
   "execution_count": 7,
   "id": "773ad55b-5f0f-4221-be5a-fe05e8791125",
   "metadata": {},
   "outputs": [],
   "source": [
    "# Calcolare e stampare tutte le prime 10 potenze di 2 utilizzando un ciclo."
   ]
  },
  {
   "cell_type": "code",
   "execution_count": 7,
   "id": "b2892612-7002-44bf-8336-4ccf04b007f9",
   "metadata": {},
   "outputs": [
    {
     "name": "stdout",
     "output_type": "stream",
     "text": [
      "1\n",
      "2\n",
      "4\n",
      "8\n",
      "16\n",
      "32\n",
      "64\n",
      "128\n",
      "256\n",
      "512\n"
     ]
    }
   ],
   "source": [
    "num = 0  # init \n",
    "potenza = 2**(num)\n",
    "\n",
    "while num < 10: \n",
    "    potenza = 2**(num)\n",
    "    print(potenza) \n",
    "    num = num + 1"
   ]
  },
  {
   "cell_type": "code",
   "execution_count": 11,
   "id": "c44b6e16-5e98-4842-8996-95bb453bb8f6",
   "metadata": {},
   "outputs": [
    {
     "name": "stdout",
     "output_type": "stream",
     "text": [
      "2\n",
      "4\n",
      "8\n",
      "16\n",
      "32\n",
      "64\n",
      "128\n",
      "256\n",
      "512\n",
      "1024\n"
     ]
    }
   ],
   "source": [
    "range_numerico = list()  # init \n",
    "num = 1  # init \n",
    "while num <= 10: \n",
    "    range_numerico.append(num) \n",
    "    num += 1\n",
    "\n",
    "for numero in range_numerico:\n",
    "    potenza = 2**(numero)\n",
    "    print(potenza)"
   ]
  },
  {
   "cell_type": "code",
   "execution_count": 13,
   "id": "34de1cf5-8b07-4228-a673-d9c8b3f9b16c",
   "metadata": {},
   "outputs": [],
   "source": [
    "# Calcolare (ma non stampare) le prime N potenze di K; \n",
    "# ognuna di esse andrà memorizzata in coda a una lista. \n",
    "# Alla fine, stampare la lista risultante.\n",
    "# Proviamo con diversi valori di K, oppure facciamola inserire all'utente."
   ]
  },
  {
   "cell_type": "code",
   "execution_count": 23,
   "id": "2b0b417a-db8f-4e49-9aa5-d4acd9fa2b31",
   "metadata": {},
   "outputs": [
    {
     "name": "stdin",
     "output_type": "stream",
     "text": [
      "Insrisci un numero intero  5\n",
      "Insrisci un numero intero  8\n"
     ]
    },
    {
     "name": "stdout",
     "output_type": "stream",
     "text": [
      "[1, 8, 64, 512, 4096]\n"
     ]
    }
   ],
   "source": [
    "N = int(input(\"Insrisci un numero intero \"))\n",
    "K = int(input(\"Insrisci un numero intero \"))\n",
    "\n",
    "potenze = list()\n",
    "num_lista = 1\n",
    "num_potenza = 0\n",
    "\n",
    "while num_lista <= N:\n",
    "    potenza = K**(num_potenza)\n",
    "    num_potenza += 1\n",
    "    potenze.append(potenza)\n",
    "    num_lista += 1\n",
    "\n",
    "print(potenze)"
   ]
  },
  {
   "cell_type": "code",
   "execution_count": 35,
   "id": "2d2aee49-e810-449d-bc01-6dc35d86ed77",
   "metadata": {},
   "outputs": [
    {
     "name": "stdin",
     "output_type": "stream",
     "text": [
      "Insrisci un numero intero  5\n",
      "Insrisci un numero intero  8\n"
     ]
    },
    {
     "name": "stdout",
     "output_type": "stream",
     "text": [
      "[0, 1, 2, 3, 4, 5]\n",
      "[1, 8, 64, 512, 4096, 32768]\n"
     ]
    }
   ],
   "source": [
    "N = int(input(\"Insrisci un numero intero \"))\n",
    "K = int(input(\"Insrisci un numero intero \"))\n",
    "\n",
    "range_numerico = list()  # init \n",
    "num = 0  # init \n",
    "while num <= N: \n",
    "    range_numerico.append(num) \n",
    "    num += 1\n",
    "print(range_numerico)\n",
    "\n",
    "potenze = list()\n",
    "\n",
    "for numero in range_numerico:\n",
    "    potenza = K**(numero)\n",
    "    potenze.append(potenza)\n",
    "\n",
    "print(potenze)"
   ]
  },
  {
   "cell_type": "code",
   "execution_count": 37,
   "id": "95e86e15-199e-4818-85be-3e2857d3f254",
   "metadata": {},
   "outputs": [],
   "source": [
    "# Abbiamo una lista con i guadagni degli ultimi 12 mesi: \n",
    "# guadagni = [100, 90, 70, 40, 50, 80, 90, 120, 80, 20, 50, 50] \n",
    "# usando un costrutto for, calcolare la media dei guadagni e stamparla a video."
   ]
  },
  {
   "cell_type": "code",
   "execution_count": 39,
   "id": "3a549adc-86a7-48d1-90d5-59172bf92eb4",
   "metadata": {},
   "outputs": [
    {
     "name": "stdout",
     "output_type": "stream",
     "text": [
      "70.0\n"
     ]
    }
   ],
   "source": [
    "guadagni = [100, 90, 70, 40, 50, 80, 90, 120, 80, 20, 50, 50]\n",
    "somma = 0\n",
    "media = 0\n",
    "\n",
    "for guadagno in guadagni:\n",
    "    somma += guadagno\n",
    "    media = somma/len(guadagni)\n",
    "\n",
    "print(media)"
   ]
  },
  {
   "cell_type": "code",
   "execution_count": 41,
   "id": "09ed3f5d-3a00-49ae-9e04-1e4ae980eec5",
   "metadata": {},
   "outputs": [],
   "source": [
    "# Abbiamo una lista di parole: \n",
    "# parole = [\"Albergo\", \"Sedia\", \"Borgo\", \"Petalo\", \"Eremo\", \"Belvedere\", \"Semestre\", \"Esteta\", \"Sosta\", \"Orpello\", \"Abete\", \"Orologio\", \"Cesta\", \"Ermellino\"]\n",
    "# stampiamo, per ogni parola, quante volte appare la lettera \"e\"; \n",
    "# facciamo attenzione al fatto che appare sia maiuscola che minuscola."
   ]
  },
  {
   "cell_type": "code",
   "execution_count": 47,
   "id": "2ad0d1a7-da1a-48e6-955c-d9376f5b3640",
   "metadata": {},
   "outputs": [
    {
     "name": "stdout",
     "output_type": "stream",
     "text": [
      "La parola 'Albergo' contiene la lettera 'e' 1 volte.\n",
      "La parola 'Sedia' contiene la lettera 'e' 1 volte.\n",
      "La parola 'Borgo' contiene la lettera 'e' 0 volte.\n",
      "La parola 'Petalo' contiene la lettera 'e' 1 volte.\n",
      "La parola 'Eremo' contiene la lettera 'e' 2 volte.\n",
      "La parola 'Belvedere' contiene la lettera 'e' 4 volte.\n",
      "La parola 'Semestre' contiene la lettera 'e' 3 volte.\n",
      "La parola 'Esteta' contiene la lettera 'e' 2 volte.\n",
      "La parola 'Sosta' contiene la lettera 'e' 0 volte.\n",
      "La parola 'Orpello' contiene la lettera 'e' 1 volte.\n",
      "La parola 'Abete' contiene la lettera 'e' 2 volte.\n",
      "La parola 'Orologio' contiene la lettera 'e' 0 volte.\n",
      "La parola 'Cesta' contiene la lettera 'e' 1 volte.\n",
      "La parola 'Ermellino' contiene la lettera 'e' 2 volte.\n"
     ]
    }
   ],
   "source": [
    "parole = [\"Albergo\", \"Sedia\", \"Borgo\", \"Petalo\", \"Eremo\", \"Belvedere\", \"Semestre\", \"Esteta\", \"Sosta\", \"Orpello\", \"Abete\", \"Orologio\", \"Cesta\", \"Ermellino\"]\n",
    "\n",
    "for parola in parole:\n",
    "    count = 0  \n",
    "    for lettera in parola:\n",
    "        if lettera.lower() == 'e':\n",
    "            count += 1\n",
    "    print(f\"La parola '{parola}' contiene la lettera 'e' {count} volte.\")"
   ]
  },
  {
   "cell_type": "code",
   "execution_count": 49,
   "id": "2fa30d7f-23eb-48ec-8daf-5f8dae11f024",
   "metadata": {},
   "outputs": [],
   "source": [
    "# Creiamo un dizionario che assegni ad ogni proprietario la sua auto, sapendo che:\n",
    "\n",
    "#• Ada guida una Punto \n",
    "#• Ben guida una Multipla \n",
    "#• Charlie guida una Golf \n",
    "#• Debbie guida una 107 \n",
    "\n",
    "# Stampiamo il dizionario per intero, e poi l'auto associata a Debbie."
   ]
  },
  {
   "cell_type": "code",
   "execution_count": 57,
   "id": "0d970a94-0ee3-4c75-8ec7-cbfadfa4dd30",
   "metadata": {},
   "outputs": [
    {
     "name": "stdout",
     "output_type": "stream",
     "text": [
      "{'Ada': 'Punto', 'Ben': 'Multipla', 'Charlie': 'Golf', 'Debbie': '107'}\n",
      "L'auto di Debbie è la 107\n"
     ]
    }
   ],
   "source": [
    "proprietari_auto = {\"Ada\" : \"Punto\", \"Ben\" : \"Multipla\", \"Charlie\" : \"Golf\", \"Debbie\" : \"107\"}\n",
    "print(proprietari_auto)\n",
    "print(\"L'auto di Debbie è la\", proprietari_auto[\"Debbie\"])"
   ]
  },
  {
   "cell_type": "code",
   "execution_count": 59,
   "id": "22673d83-7634-4047-8d57-65317e736f7b",
   "metadata": {},
   "outputs": [],
   "source": [
    "# Abbiamo un dizionario che assegna ad ogni proprietario la sua auto: \n",
    "# dizionario_auto = {\"Ada\": \"Punto\", \"Ben\": \"Multipla\", \"Charlie\": \"Golf\", \"Debbie\": \"107\"} \n",
    "\n",
    "# Con un ciclo, e usando il metodo .values(), stampiamo a video tutte le auto che non sono una Multipla."
   ]
  },
  {
   "cell_type": "code",
   "execution_count": 71,
   "id": "15457267-948e-4097-a00c-ca163c17d3a9",
   "metadata": {},
   "outputs": [
    {
     "name": "stdout",
     "output_type": "stream",
     "text": [
      "Punto\n",
      "Golf\n",
      "107\n"
     ]
    }
   ],
   "source": [
    "dizionario_auto = {\"Ada\": \"Punto\", \"Ben\": \"Multipla\", \"Charlie\": \"Golf\", \"Debbie\": \"107\"} \n",
    "\n",
    "cars = dizionario_auto.values()\n",
    "\n",
    "for car in cars:\n",
    "    if car != \"Multipla\":\n",
    "        print(car)"
   ]
  },
  {
   "cell_type": "code",
   "execution_count": 73,
   "id": "86ff1953-5a41-40bc-b3c2-a06f199b24a2",
   "metadata": {},
   "outputs": [],
   "source": [
    "# Abbiamo due dizionari che assegnano ad ogni proprietario la propria auto: \n",
    "# dizionario_auto = {\"Ada\": \"Punto\", \"Ben\": \"Multipla\", \"Charlie\": \"Golf\", \"Debbie\": \"107\", \"Emily\": \"A1\"} \n",
    "# nuovi_proprietari = {\"Ben\": \"Polo\", \"Fred\": \"Octavia\", \"Grace\": \"Yaris\", \"Hugh\": \"Clio\"} \n",
    "\n",
    "#Aggiornare il dizionario dizionario_auto con i dati contenuti in nuovi_proprietari e stamparlo. \n",
    "# Cosa è successo a Ben?"
   ]
  },
  {
   "cell_type": "code",
   "execution_count": 75,
   "id": "d3f1f7d4-b699-4054-b681-16064a9ddc9b",
   "metadata": {},
   "outputs": [
    {
     "name": "stdout",
     "output_type": "stream",
     "text": [
      "{'Ada': 'Punto', 'Ben': 'Polo', 'Charlie': 'Golf', 'Debbie': '107', 'Emily': 'A1', 'Fred': 'Octavia', 'Grace': 'Yaris', 'Hugh': 'Clio'}\n"
     ]
    }
   ],
   "source": [
    "dizionario_auto = {\"Ada\": \"Punto\", \"Ben\": \"Multipla\", \"Charlie\": \"Golf\", \"Debbie\": \"107\", \"Emily\": \"A1\"} \n",
    "nuovi_proprietari = {\"Ben\": \"Polo\", \"Fred\": \"Octavia\", \"Grace\": \"Yaris\", \"Hugh\": \"Clio\"} \n",
    "\n",
    "dizionario_auto.update(nuovi_proprietari)\n",
    "print(dizionario_auto)"
   ]
  },
  {
   "cell_type": "code",
   "execution_count": 77,
   "id": "ac767364-f228-40ff-8ebe-b35fddbd59f3",
   "metadata": {},
   "outputs": [],
   "source": [
    "# Scrivere un programma che, data una lista di numeri, fornisca in output il minimo e il massimo \n",
    "# (possiamo usare o meno le funzioni built-in min() e max())."
   ]
  },
  {
   "cell_type": "code",
   "execution_count": 93,
   "id": "9e00fdd6-0fca-4587-af23-4ed5059f7fb0",
   "metadata": {},
   "outputs": [
    {
     "name": "stdin",
     "output_type": "stream",
     "text": [
      "Inserisci un numero  56\n",
      "Inserisci un numero  78\n",
      "Inserisci un numero  39\n",
      "Inserisci un numero  2629\n",
      "Inserisci un numero  4549\n"
     ]
    },
    {
     "name": "stdout",
     "output_type": "stream",
     "text": [
      "Il valore minimo è 39\n",
      "Il valore massimo è 4549\n"
     ]
    }
   ],
   "source": [
    "num1 = int(input(\"Inserisci un numero \"))\n",
    "num2 = int(input(\"Inserisci un numero \"))\n",
    "num3 = int(input(\"Inserisci un numero \"))\n",
    "num4 = int(input(\"Inserisci un numero \"))\n",
    "num5 = int(input(\"Inserisci un numero \"))\n",
    "\n",
    "lista = [num1, num2, num3, num4, num5]\n",
    "\n",
    "del min\n",
    "del max\n",
    "\n",
    "min_value = min(lista)\n",
    "print(\"Il valore minimo è\", min_value)\n",
    "\n",
    "max_value = max(lista)\n",
    "print(\"Il valore massimo è\", max_value)"
   ]
  },
  {
   "cell_type": "code",
   "execution_count": 95,
   "id": "cb9d6040-c3db-4a9a-9e14-895ff9c7c493",
   "metadata": {},
   "outputs": [],
   "source": [
    "# Scrivere un programma che, data una lista di numeri, fornisca in output i tre numeri più grandi; \n",
    "# gestire il caso in cui la lista sia più corta di tre, e quando uno o più dei numeri selezionati sono uguali."
   ]
  },
  {
   "cell_type": "code",
   "execution_count": 111,
   "id": "239b9b21-d37a-482c-89b0-d7f31e73b72f",
   "metadata": {},
   "outputs": [
    {
     "name": "stdout",
     "output_type": "stream",
     "text": [
      "4648\n",
      "3830\n",
      "383\n"
     ]
    }
   ],
   "source": [
    "lista = [4, 56, 56, 4648, 383, 6, 112, 3830]\n",
    "\n",
    "if len(lista) >= 3:\n",
    "    count = 0\n",
    "    printed_max_values = set()\n",
    "    \n",
    "    while count < 3 and lista:  # Continue while we need more max values and the list is not empty\n",
    "        max_value = max(lista)  \n",
    "        \n",
    "        if max_value not in printed_max_values:  # Check if this max value has not been printed yet\n",
    "            print(max_value)  \n",
    "            printed_max_values.add(max_value)  \n",
    "            count += 1 \n",
    "        \n",
    "        # Remove all instances of the current max value from the list\n",
    "        lista.remove(max_value)\n",
    "else:\n",
    "    max_value = max(lista)\n",
    "    print(max_value)"
   ]
  },
  {
   "cell_type": "code",
   "execution_count": null,
   "id": "7136f118-ffeb-4b0a-b7e2-177755202d84",
   "metadata": {},
   "outputs": [],
   "source": []
  }
 ],
 "metadata": {
  "kernelspec": {
   "display_name": "Python 3 (ipykernel)",
   "language": "python",
   "name": "python3"
  },
  "language_info": {
   "codemirror_mode": {
    "name": "ipython",
    "version": 3
   },
   "file_extension": ".py",
   "mimetype": "text/x-python",
   "name": "python",
   "nbconvert_exporter": "python",
   "pygments_lexer": "ipython3",
   "version": "3.11.7"
  }
 },
 "nbformat": 4,
 "nbformat_minor": 5
}
